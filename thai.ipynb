{
 "cells": [
  {
   "cell_type": "code",
   "execution_count": 23,
   "metadata": {},
   "outputs": [
    {
     "name": "stdout",
     "output_type": "stream",
     "text": [
      "3.9.20 | packaged by conda-forge | (main, Sep 22 2024, 14:06:09) \n",
      "[Clang 17.0.6 ]\n"
     ]
    }
   ],
   "source": [
    "import sys\n",
    "print(sys.version)"
   ]
  },
  {
   "cell_type": "code",
   "execution_count": 24,
   "metadata": {},
   "outputs": [
    {
     "name": "stdout",
     "output_type": "stream",
     "text": [
      "5.0.4\n"
     ]
    }
   ],
   "source": [
    "#install the library using pip is:\"pip install pythainlp\"\n",
    "#install the library using pip is:\"pip install pythainlp scikit-learn gensim matplotlib\"\n",
    "import pythainlp\n",
    "from pythainlp.tokenize import word_tokenize\n",
    "from collections import Counter\n",
    "import numpy as np\n",
    "from sklearn.manifold import TSNE\n",
    "import matplotlib.pyplot as plt\n",
    "from gensim.models import Word2Vec\n",
    "from sklearn.cluster import KMeans\n",
    "\n",
    "print(pythainlp.__version__)"
   ]
  },
  {
   "cell_type": "code",
   "execution_count": 25,
   "metadata": {},
   "outputs": [],
   "source": [
    "# List of Thai articles\n",
    "thai_articles = [\n",
    "    \"ฉันอยากมาอยู่ไทยแต่ไม่สามารถทำได้\",\n",
    "    \"ประเทศไทยเป็นประเทศที่สวยงามมาก\",\n",
    "    \"การเดินทางไปเชียงใหม่ทำให้ฉันมีความสุข\",\n",
    "    \"ฉันอยากมาอยู่ไทยแต่ไม่สามารถทำได้\",\n",
    "    \"ประเทศไทยเป็นประเทศที่สวยงามมาก\",\n",
    "    \"การเดินทางไปเชียงใหม่ทำให้ฉันมีความสุข\",\n",
    "    \"ฉันอยากมาอยู่ไทยแต่ไม่สามารถทำได้\",\n",
    "    \"ประเทศไทยเป็นประเทศที่สวยงามมาก\",\n",
    "    \"การเดินทางไปเชียงใหม่ทำให้ฉันมีความสุข\",\n",
    "    \"ฉันอยากมาอยู่ไทยแต่ไม่สามารถทำได้\",\n",
    "    \"ประเทศไทยเป็นประเทศที่สวยงามมาก\",\n",
    "    \"การเดินทางไปเชียงใหม่ทำให้ฉันมีความสุข\"\n",
    "    \n",
    "]"
   ]
  },
  {
   "cell_type": "code",
   "execution_count": 26,
   "metadata": {},
   "outputs": [],
   "source": [
    "# Combine all articles into one string\n",
    "all_text = \" \".join(thai_articles)\n",
    "\n",
    "# Tokenize the combined text\n",
    "tokens = word_tokenize(all_text)\n",
    "\n",
    "# Count word frequencies\n",
    "word_count = Counter(tokens)\n",
    "\n",
    "# Find the most common words\n",
    "most_common_words = word_count.most_common(5)  # Adjust the number as needed\n"
   ]
  },
  {
   "cell_type": "code",
   "execution_count": 27,
   "metadata": {},
   "outputs": [
    {
     "name": "stdout",
     "output_type": "stream",
     "text": [
      "Most mentioned words:\n",
      " : 11 times\n",
      "ฉัน: 8 times\n",
      "ไทย: 8 times\n",
      "ประเทศ: 8 times\n",
      "อยาก: 4 times\n"
     ]
    }
   ],
   "source": [
    "\n",
    "# Print the most common words\n",
    "print(\"Most mentioned words:\")\n",
    "for word, count in most_common_words:\n",
    "    print(f\"{word}: {count} times\")"
   ]
  },
  {
   "cell_type": "code",
   "execution_count": 28,
   "metadata": {},
   "outputs": [
    {
     "name": "stderr",
     "output_type": "stream",
     "text": [
      "/Users/yuta11/micromamba/lib/python3.9/site-packages/IPython/core/pylabtools.py:152: UserWarning: Glyph 3593 (\\N{THAI CHARACTER CHO CHING}) missing from font(s) DejaVu Sans.\n",
      "  fig.canvas.print_figure(bytes_io, **kw)\n",
      "/Users/yuta11/micromamba/lib/python3.9/site-packages/IPython/core/pylabtools.py:152: UserWarning: Glyph 3633 (\\N{THAI CHARACTER MAI HAN-AKAT}) missing from font(s) DejaVu Sans.\n",
      "  fig.canvas.print_figure(bytes_io, **kw)\n",
      "/Users/yuta11/micromamba/lib/python3.9/site-packages/IPython/core/pylabtools.py:152: UserWarning: Glyph 3609 (\\N{THAI CHARACTER NO NU}) missing from font(s) DejaVu Sans.\n",
      "  fig.canvas.print_figure(bytes_io, **kw)\n",
      "/Users/yuta11/micromamba/lib/python3.9/site-packages/IPython/core/pylabtools.py:152: UserWarning: Glyph 3652 (\\N{THAI CHARACTER SARA AI MAIMALAI}) missing from font(s) DejaVu Sans.\n",
      "  fig.canvas.print_figure(bytes_io, **kw)\n",
      "/Users/yuta11/micromamba/lib/python3.9/site-packages/IPython/core/pylabtools.py:152: UserWarning: Glyph 3607 (\\N{THAI CHARACTER THO THAHAN}) missing from font(s) DejaVu Sans.\n",
      "  fig.canvas.print_figure(bytes_io, **kw)\n",
      "/Users/yuta11/micromamba/lib/python3.9/site-packages/IPython/core/pylabtools.py:152: UserWarning: Glyph 3618 (\\N{THAI CHARACTER YO YAK}) missing from font(s) DejaVu Sans.\n",
      "  fig.canvas.print_figure(bytes_io, **kw)\n",
      "/Users/yuta11/micromamba/lib/python3.9/site-packages/IPython/core/pylabtools.py:152: UserWarning: Glyph 3611 (\\N{THAI CHARACTER PO PLA}) missing from font(s) DejaVu Sans.\n",
      "  fig.canvas.print_figure(bytes_io, **kw)\n",
      "/Users/yuta11/micromamba/lib/python3.9/site-packages/IPython/core/pylabtools.py:152: UserWarning: Glyph 3619 (\\N{THAI CHARACTER RO RUA}) missing from font(s) DejaVu Sans.\n",
      "  fig.canvas.print_figure(bytes_io, **kw)\n",
      "/Users/yuta11/micromamba/lib/python3.9/site-packages/IPython/core/pylabtools.py:152: UserWarning: Glyph 3632 (\\N{THAI CHARACTER SARA A}) missing from font(s) DejaVu Sans.\n",
      "  fig.canvas.print_figure(bytes_io, **kw)\n",
      "/Users/yuta11/micromamba/lib/python3.9/site-packages/IPython/core/pylabtools.py:152: UserWarning: Glyph 3648 (\\N{THAI CHARACTER SARA E}) missing from font(s) DejaVu Sans.\n",
      "  fig.canvas.print_figure(bytes_io, **kw)\n",
      "/Users/yuta11/micromamba/lib/python3.9/site-packages/IPython/core/pylabtools.py:152: UserWarning: Glyph 3624 (\\N{THAI CHARACTER SO SALA}) missing from font(s) DejaVu Sans.\n",
      "  fig.canvas.print_figure(bytes_io, **kw)\n",
      "/Users/yuta11/micromamba/lib/python3.9/site-packages/IPython/core/pylabtools.py:152: UserWarning: Glyph 3629 (\\N{THAI CHARACTER O ANG}) missing from font(s) DejaVu Sans.\n",
      "  fig.canvas.print_figure(bytes_io, **kw)\n",
      "/Users/yuta11/micromamba/lib/python3.9/site-packages/IPython/core/pylabtools.py:152: UserWarning: Glyph 3634 (\\N{THAI CHARACTER SARA AA}) missing from font(s) DejaVu Sans.\n",
      "  fig.canvas.print_figure(bytes_io, **kw)\n",
      "/Users/yuta11/micromamba/lib/python3.9/site-packages/IPython/core/pylabtools.py:152: UserWarning: Glyph 3585 (\\N{THAI CHARACTER KO KAI}) missing from font(s) DejaVu Sans.\n",
      "  fig.canvas.print_figure(bytes_io, **kw)\n",
      "/Users/yuta11/micromamba/lib/python3.9/site-packages/IPython/core/pylabtools.py:152: UserWarning: Glyph 3617 (\\N{THAI CHARACTER MO MA}) missing from font(s) DejaVu Sans.\n",
      "  fig.canvas.print_figure(bytes_io, **kw)\n",
      "/Users/yuta11/micromamba/lib/python3.9/site-packages/IPython/core/pylabtools.py:152: UserWarning: Glyph 3641 (\\N{THAI CHARACTER SARA UU}) missing from font(s) DejaVu Sans.\n",
      "  fig.canvas.print_figure(bytes_io, **kw)\n",
      "/Users/yuta11/micromamba/lib/python3.9/site-packages/IPython/core/pylabtools.py:152: UserWarning: Glyph 3656 (\\N{THAI CHARACTER MAI EK}) missing from font(s) DejaVu Sans.\n",
      "  fig.canvas.print_figure(bytes_io, **kw)\n",
      "/Users/yuta11/micromamba/lib/python3.9/site-packages/IPython/core/pylabtools.py:152: UserWarning: Glyph 3649 (\\N{THAI CHARACTER SARA AE}) missing from font(s) DejaVu Sans.\n",
      "  fig.canvas.print_figure(bytes_io, **kw)\n",
      "/Users/yuta11/micromamba/lib/python3.9/site-packages/IPython/core/pylabtools.py:152: UserWarning: Glyph 3605 (\\N{THAI CHARACTER TO TAO}) missing from font(s) DejaVu Sans.\n",
      "  fig.canvas.print_figure(bytes_io, **kw)\n",
      "/Users/yuta11/micromamba/lib/python3.9/site-packages/IPython/core/pylabtools.py:152: UserWarning: Glyph 3626 (\\N{THAI CHARACTER SO SUA}) missing from font(s) DejaVu Sans.\n",
      "  fig.canvas.print_figure(bytes_io, **kw)\n",
      "/Users/yuta11/micromamba/lib/python3.9/site-packages/IPython/core/pylabtools.py:152: UserWarning: Glyph 3606 (\\N{THAI CHARACTER THO THUNG}) missing from font(s) DejaVu Sans.\n",
      "  fig.canvas.print_figure(bytes_io, **kw)\n",
      "/Users/yuta11/micromamba/lib/python3.9/site-packages/IPython/core/pylabtools.py:152: UserWarning: Glyph 3635 (\\N{THAI CHARACTER SARA AM}) missing from font(s) DejaVu Sans.\n",
      "  fig.canvas.print_figure(bytes_io, **kw)\n",
      "/Users/yuta11/micromamba/lib/python3.9/site-packages/IPython/core/pylabtools.py:152: UserWarning: Glyph 3604 (\\N{THAI CHARACTER DO DEK}) missing from font(s) DejaVu Sans.\n",
      "  fig.canvas.print_figure(bytes_io, **kw)\n",
      "/Users/yuta11/micromamba/lib/python3.9/site-packages/IPython/core/pylabtools.py:152: UserWarning: Glyph 3657 (\\N{THAI CHARACTER MAI THO}) missing from font(s) DejaVu Sans.\n",
      "  fig.canvas.print_figure(bytes_io, **kw)\n",
      "/Users/yuta11/micromamba/lib/python3.9/site-packages/IPython/core/pylabtools.py:152: UserWarning: Glyph 3655 (\\N{THAI CHARACTER MAITAIKHU}) missing from font(s) DejaVu Sans.\n",
      "  fig.canvas.print_figure(bytes_io, **kw)\n",
      "/Users/yuta11/micromamba/lib/python3.9/site-packages/IPython/core/pylabtools.py:152: UserWarning: Glyph 3637 (\\N{THAI CHARACTER SARA II}) missing from font(s) DejaVu Sans.\n",
      "  fig.canvas.print_figure(bytes_io, **kw)\n",
      "/Users/yuta11/micromamba/lib/python3.9/site-packages/IPython/core/pylabtools.py:152: UserWarning: Glyph 3623 (\\N{THAI CHARACTER WO WAEN}) missing from font(s) DejaVu Sans.\n",
      "  fig.canvas.print_figure(bytes_io, **kw)\n",
      "/Users/yuta11/micromamba/lib/python3.9/site-packages/IPython/core/pylabtools.py:152: UserWarning: Glyph 3591 (\\N{THAI CHARACTER NGO NGU}) missing from font(s) DejaVu Sans.\n",
      "  fig.canvas.print_figure(bytes_io, **kw)\n",
      "/Users/yuta11/micromamba/lib/python3.9/site-packages/IPython/core/pylabtools.py:152: UserWarning: Glyph 3636 (\\N{THAI CHARACTER SARA I}) missing from font(s) DejaVu Sans.\n",
      "  fig.canvas.print_figure(bytes_io, **kw)\n",
      "/Users/yuta11/micromamba/lib/python3.9/site-packages/IPython/core/pylabtools.py:152: UserWarning: Glyph 3594 (\\N{THAI CHARACTER CHO CHANG}) missing from font(s) DejaVu Sans.\n",
      "  fig.canvas.print_figure(bytes_io, **kw)\n",
      "/Users/yuta11/micromamba/lib/python3.9/site-packages/IPython/core/pylabtools.py:152: UserWarning: Glyph 3651 (\\N{THAI CHARACTER SARA AI MAIMUAN}) missing from font(s) DejaVu Sans.\n",
      "  fig.canvas.print_figure(bytes_io, **kw)\n",
      "/Users/yuta11/micromamba/lib/python3.9/site-packages/IPython/core/pylabtools.py:152: UserWarning: Glyph 3627 (\\N{THAI CHARACTER HO HIP}) missing from font(s) DejaVu Sans.\n",
      "  fig.canvas.print_figure(bytes_io, **kw)\n",
      "/Users/yuta11/micromamba/lib/python3.9/site-packages/IPython/core/pylabtools.py:152: UserWarning: Glyph 3588 (\\N{THAI CHARACTER KHO KHWAI}) missing from font(s) DejaVu Sans.\n",
      "  fig.canvas.print_figure(bytes_io, **kw)\n",
      "/Users/yuta11/micromamba/lib/python3.9/site-packages/IPython/core/pylabtools.py:152: UserWarning: Glyph 3640 (\\N{THAI CHARACTER SARA U}) missing from font(s) DejaVu Sans.\n",
      "  fig.canvas.print_figure(bytes_io, **kw)\n",
      "/Users/yuta11/micromamba/lib/python3.9/site-packages/IPython/core/pylabtools.py:152: UserWarning: Glyph 3586 (\\N{THAI CHARACTER KHO KHAI}) missing from font(s) DejaVu Sans.\n",
      "  fig.canvas.print_figure(bytes_io, **kw)\n"
     ]
    },
    {
     "data": {
      "image/png": "[encoded data removed]",
      "text/plain": [
       "<Figure size 1200x800 with 1 Axes>"
      ]
     },
     "metadata": {},
     "output_type": "display_data"
    }
   ],
   "source": [
    "tokens = word_tokenize(most_common_words, engine='newmm')\n",
    "\n",
    "# Tokenize the combined text\n",
    "tokens = word_tokenize(all_text)\n",
    "\n",
    "# Count word frequencies\n",
    "word_counts = Counter(tokens)\n",
    "\n",
    "# Get the most common words\n",
    "most_common_words = word_counts.most_common(100)  # Adjust the number as needed\n",
    "\n",
    "# Extract the words from most_common_words\n",
    "words = [word for word, _ in most_common_words]\n",
    "\n",
    "# Train Word2Vec model\n",
    "model = Word2Vec([tokens], vector_size=100, window=5, min_count=1, workers=4)\n",
    "\n",
    "# Get vectors for the most common words\n",
    "word_vectors = np.array([model.wv[word] for word in words])\n",
    "\n",
    "# Apply k-means clustering\n",
    "kmeans = KMeans(n_clusters=5, random_state=0)  # Adjust the number of clusters as needed\n",
    "kmeans.fit(word_vectors)\n",
    "labels = kmeans.labels_\n",
    "\n",
    "# Plot the results\n",
    "plt.figure(figsize=(12, 8))\n",
    "for i, word in enumerate(words):\n",
    "    plt.scatter(word_vectors[i, 0], word_vectors[i, 1], c='C'+str(labels[i]))\n",
    "    plt.annotate(word, (word_vectors[i, 0], word_vectors[i, 1]))\n",
    "plt.show()"
   ]
  }
 ],
 "metadata": {
  "kernelspec": {
   "display_name": "Python 3",
   "language": "python",
   "name": "python3"
  },
  "language_info": {
   "codemirror_mode": {
    "name": "ipython",
    "version": 3
   },
   "file_extension": ".py",
   "mimetype": "text/x-python",
   "name": "python",
   "nbconvert_exporter": "python",
   "pygments_lexer": "ipython3",
   "version": "3.9.20"
  }
 },
 "nbformat": 4,
 "nbformat_minor": 2
}
